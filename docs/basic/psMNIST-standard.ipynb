{
 "cells": [
  {
   "cell_type": "code",
   "execution_count": 1,
   "metadata": {},
   "outputs": [],
   "source": [
    "%matplotlib inline"
   ]
  },
  {
   "cell_type": "code",
   "execution_count": 2,
   "metadata": {},
   "outputs": [],
   "source": [
    "# Uses the exact data set and permutation from the psMNIST task in\n",
    "# Towards Non-saturating Recurrent Units for Modelling Long-term Dependencies\n",
    "\n",
    "import os\n",
    "import sys\n",
    "import numpy as np\n",
    "import tensorflow as tf\n",
    "\n",
    "os.environ['CUDA_VISIBLE_DEVICES'] = '0'"
   ]
  },
  {
   "cell_type": "code",
   "execution_count": 3,
   "metadata": {},
   "outputs": [
    {
     "name": "stdout",
     "output_type": "stream",
     "text": [
      "(50000, 784, 1) (50000,)\n",
      "(10000, 784, 1) (10000,)\n",
      "(10000, 784, 1) (10000,)\n"
     ]
    }
   ],
   "source": [
    "# Set seed to ensure this example is reproducible\n",
    "seed = 0\n",
    "tf.random.set_seed(seed)\n",
    "np.random.seed(seed)\n",
    "rng = np.random.RandomState(seed)\n",
    "\n",
    "# load mnist dataset\n",
    "(train_images, train_labels), (test_images, test_labels) = (\n",
    "    tf.keras.datasets.mnist.load_data())\n",
    "\n",
    "# Change inputs to 0--1 range\n",
    "train_images = train_images / 255\n",
    "test_images = test_images / 255\n",
    "\n",
    "# Flatten images into sequences\n",
    "train_images = train_images.reshape((train_images.shape[0], -1, 1))\n",
    "test_images = test_images.reshape((test_images.shape[0], -1, 1))\n",
    "\n",
    "# Apply permutation\n",
    "perm = rng.permutation(train_images.shape[1])\n",
    "train_images = train_images[:, perm]\n",
    "test_images = test_images[:, perm]\n",
    "\n",
    "X_train = train_images[0:50000]\n",
    "X_valid = train_images[50000:]\n",
    "X_test = test_images\n",
    "\n",
    "Y_train = train_labels[0:50000]\n",
    "Y_valid = train_labels[50000:]\n",
    "Y_test = test_labels\n",
    "\n",
    "print(X_train.shape, Y_train.shape)\n",
    "print(X_valid.shape, Y_valid.shape)\n",
    "print(X_test.shape, Y_test.shape)"
   ]
  },
  {
   "cell_type": "code",
   "execution_count": 4,
   "metadata": {},
   "outputs": [
    {
     "data": {
      "image/png": "[encoded data removed]",
      "text/plain": [
       "<Figure size 432x288 with 2 Axes>"
      ]
     },
     "metadata": {
      "needs_background": "light"
     },
     "output_type": "display_data"
    }
   ],
   "source": [
    "import matplotlib.pyplot as plt\n",
    "import seaborn as sns\n",
    "\n",
    "plt.subplot(111)\n",
    "plt.title(\"Digit = %d\" % Y_train[1])\n",
    "plt.imshow(X_train[1].reshape(28, 28))\n",
    "plt.colorbar()\n",
    "plt.show()"
   ]
  },
  {
   "cell_type": "code",
   "execution_count": 5,
   "metadata": {},
   "outputs": [
    {
     "name": "stderr",
     "output_type": "stream",
     "text": [
      "Using TensorFlow backend.\n"
     ]
    }
   ],
   "source": [
    "from lmu import LMUCell\n",
    "\n",
    "from keras.callbacks import EarlyStopping, ModelCheckpoint\n",
    "from keras.layers.core import Dense\n",
    "from keras.layers.recurrent import RNN\n",
    "from keras.models import Sequential, Model\n",
    "from keras.initializers import Constant\n",
    "from keras.utils import multi_gpu_model, to_categorical"
   ]
  },
  {
   "cell_type": "code",
   "execution_count": 6,
   "metadata": {},
   "outputs": [
    {
     "name": "stdout",
     "output_type": "stream",
     "text": [
      "Model: \"sequential_1\"\n",
      "_________________________________________________________________\n",
      "Layer (type)                 Output Shape              Param #   \n",
      "=================================================================\n",
      "rnn_1 (RNN)                  (None, 212)               165689    \n",
      "_________________________________________________________________\n",
      "dense_1 (Dense)              (None, 10)                2130      \n",
      "=================================================================\n",
      "Total params: 167,819\n",
      "Trainable params: 102,027\n",
      "Non-trainable params: 65,792\n",
      "_________________________________________________________________\n"
     ]
    }
   ],
   "source": [
    "padded_length = 28**2 + 1\n",
    "n_pixels = padded_length - 1\n",
    "\n",
    "def lmu_layer(**kwargs):\n",
    "    return RNN(LMUCell(units=212,\n",
    "                       order=256,\n",
    "                       theta=n_pixels,\n",
    "                       input_encoders_initializer=Constant(1),\n",
    "                       hidden_encoders_initializer=Constant(0),\n",
    "                       memory_encoders_initializer=Constant(0),\n",
    "                       input_kernel_initializer=Constant(0),\n",
    "                       hidden_kernel_initializer=Constant(0),\n",
    "                       memory_kernel_initializer='glorot_normal',\n",
    "                      ),\n",
    "               return_sequences=False,\n",
    "               **kwargs\n",
    "              )\n",
    "\n",
    "model = Sequential()\n",
    "model.add(lmu_layer(\n",
    "    input_shape=X_train.shape[1:],  # (nr. of pixels, 1)\n",
    "))\n",
    "model.add(Dense(10, activation='softmax'))\n",
    "\n",
    "model.compile(loss=\"categorical_crossentropy\", optimizer='adam', metrics=['accuracy'])\n",
    "model.summary()"
   ]
  },
  {
   "cell_type": "code",
   "execution_count": 7,
   "metadata": {
    "scrolled": false
   },
   "outputs": [
    {
     "name": "stdout",
     "output_type": "stream",
     "text": [
      "Train on 50000 samples, validate on 10000 samples\n",
      "Epoch 1/10\n",
      "50000/50000 [==============================] - 567s 11ms/step - loss: 0.4536 - accuracy: 0.8663 - val_loss: 0.2895 - val_accuracy: 0.9144\n",
      "\n",
      "Epoch 00001: val_loss improved from inf to 0.28947, saving model to ../models/psMNIST-standard.hdf5\n",
      "Epoch 2/10\n",
      "50000/50000 [==============================] - 544s 11ms/step - loss: 0.2629 - accuracy: 0.9211 - val_loss: 0.1970 - val_accuracy: 0.9422\n",
      "\n",
      "Epoch 00002: val_loss improved from 0.28947 to 0.19698, saving model to ../models/psMNIST-standard.hdf5\n",
      "Epoch 3/10\n",
      "50000/50000 [==============================] - 584s 12ms/step - loss: 0.1820 - accuracy: 0.9451 - val_loss: 0.1525 - val_accuracy: 0.9544\n",
      "\n",
      "Epoch 00003: val_loss improved from 0.19698 to 0.15249, saving model to ../models/psMNIST-standard.hdf5\n",
      "Epoch 4/10\n",
      "50000/50000 [==============================] - 551s 11ms/step - loss: 0.1355 - accuracy: 0.9591 - val_loss: 0.1254 - val_accuracy: 0.9628\n",
      "\n",
      "Epoch 00004: val_loss improved from 0.15249 to 0.12536, saving model to ../models/psMNIST-standard.hdf5\n",
      "Epoch 5/10\n",
      "50000/50000 [==============================] - 576s 12ms/step - loss: 0.1068 - accuracy: 0.9667 - val_loss: 0.1093 - val_accuracy: 0.9655\n",
      "\n",
      "Epoch 00005: val_loss improved from 0.12536 to 0.10927, saving model to ../models/psMNIST-standard.hdf5\n",
      "Epoch 6/10\n",
      "50000/50000 [==============================] - 555s 11ms/step - loss: 0.0834 - accuracy: 0.9743 - val_loss: 0.1234 - val_accuracy: 0.9635\n",
      "\n",
      "Epoch 00006: val_loss did not improve from 0.10927\n",
      "Epoch 7/10\n",
      "50000/50000 [==============================] - 534s 11ms/step - loss: 0.0708 - accuracy: 0.9776 - val_loss: 0.1039 - val_accuracy: 0.9699\n",
      "\n",
      "Epoch 00007: val_loss improved from 0.10927 to 0.10391, saving model to ../models/psMNIST-standard.hdf5\n",
      "Epoch 8/10\n",
      "50000/50000 [==============================] - 568s 11ms/step - loss: 0.0544 - accuracy: 0.9825 - val_loss: 0.1063 - val_accuracy: 0.9679\n",
      "\n",
      "Epoch 00008: val_loss did not improve from 0.10391\n",
      "Epoch 9/10\n",
      "50000/50000 [==============================] - 560s 11ms/step - loss: 0.3207 - accuracy: 0.8967 - val_loss: 2.6161 - val_accuracy: 0.1266\n",
      "\n",
      "Epoch 00009: val_loss did not improve from 0.10391\n",
      "Epoch 10/10\n",
      "50000/50000 [==============================] - 577s 12ms/step - loss: nan - accuracy: 0.1008 - val_loss: nan - val_accuracy: 0.0991\n",
      "\n",
      "Epoch 00010: val_loss did not improve from 0.10391\n",
      "Took 93.60 min\n"
     ]
    }
   ],
   "source": [
    "import time\n",
    "\n",
    "batch_size = 100\n",
    "epochs = 10\n",
    "t = time.time()\n",
    "\n",
    "fname = \"./psMNIST-standard.hdf5\"\n",
    "callbacks = [\n",
    "    # CSVLogger('log-ctn19-pmnist-dn-090419.csv', append=True, separator=';')\n",
    "    # EarlyStopping(monitor='val_loss', min_delta=1e-6, patience=5),\n",
    "    ModelCheckpoint(filepath=fname, monitor='val_loss', verbose=1, save_best_only=True),\n",
    "]\n",
    "\n",
    "result = model.fit(\n",
    "    X_train,\n",
    "    to_categorical(Y_train),\n",
    "    epochs=epochs,\n",
    "    batch_size=batch_size,\n",
    "    validation_data=(X_valid, to_categorical(Y_valid)),\n",
    "    callbacks=callbacks\n",
    ")\n",
    "\n",
    "print(\"Took {:.2f} min\".format((time.time() - t) / 60))"
   ]
  },
  {
   "cell_type": "code",
   "execution_count": 8,
   "metadata": {},
   "outputs": [
    {
     "data": {
      "image/png": "[encoded data removed]",
      "text/plain": [
       "<Figure size 432x288 with 1 Axes>"
      ]
     },
     "metadata": {
      "needs_background": "light"
     },
     "output_type": "display_data"
    }
   ],
   "source": [
    "plt.figure()\n",
    "plt.plot(result.history['val_accuracy'], label=\"Validation\")\n",
    "plt.plot(result.history['accuracy'], label=\"Training\")\n",
    "plt.legend()\n",
    "plt.xlabel(\"Epoch\")\n",
    "plt.ylabel(\"Accuracy\")\n",
    "plt.title(\"psMNIST - LMU\")\n",
    "plt.show()"
   ]
  },
  {
   "cell_type": "code",
   "execution_count": 9,
   "metadata": {},
   "outputs": [
    {
     "data": {
      "text/plain": [
       "0.09910000115633011"
      ]
     },
     "execution_count": 9,
     "metadata": {},
     "output_type": "execute_result"
    }
   ],
   "source": [
    "saved_epoch = np.argmin(result.history['val_loss'])\n",
    "result.history['val_accuracy'][saved_epoch]"
   ]
  },
  {
   "cell_type": "code",
   "execution_count": 10,
   "metadata": {},
   "outputs": [],
   "source": [
    "model.load_weights(fname)  # load best weights"
   ]
  },
  {
   "cell_type": "code",
   "execution_count": 11,
   "metadata": {},
   "outputs": [
    {
     "name": "stdout",
     "output_type": "stream",
     "text": [
      "10000/10000 [==============================] - 34s 3ms/step\n"
     ]
    },
    {
     "data": {
      "text/plain": [
       "[0.10887054147776216, 0.9674999713897705]"
      ]
     },
     "execution_count": 11,
     "metadata": {},
     "output_type": "execute_result"
    }
   ],
   "source": [
    "model.evaluate(X_test, to_categorical(Y_test))"
   ]
  },
  {
   "cell_type": "code",
   "execution_count": 12,
   "metadata": {},
   "outputs": [],
   "source": [
    "import pickle\n",
    "with open('psMNIST-standard.pkl', 'wb') as f:\n",
    "    pickle.dump(result, f)"
   ]
  }
 ],
 "metadata": {
  "kernelspec": {
   "display_name": "Python 3",
   "language": "python",
   "name": "python3"
  },
  "language_info": {
   "codemirror_mode": {
    "name": "ipython",
    "version": 3
   },
   "file_extension": ".py",
   "mimetype": "text/x-python",
   "name": "python",
   "nbconvert_exporter": "python",
   "pygments_lexer": "ipython3",
   "version": "3.6.10"
  }
 },
 "nbformat": 4,
 "nbformat_minor": 2
}
